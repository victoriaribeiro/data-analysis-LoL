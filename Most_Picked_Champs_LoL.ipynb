{
  "nbformat": 4,
  "nbformat_minor": 0,
  "metadata": {
    "colab": {
      "name": "Most Picked Champs LoL.ipynb",
      "provenance": [],
      "include_colab_link": true
    },
    "kernelspec": {
      "name": "python3",
      "display_name": "Python 3"
    }
  },
  "cells": [
    {
      "cell_type": "markdown",
      "metadata": {
        "id": "view-in-github",
        "colab_type": "text"
      },
      "source": [
        "<a href=\"https://colab.research.google.com/github/victoriaribeiro/data-analysis-LoL/blob/master/Most_Picked_Champs_LoL.ipynb\" target=\"_parent\"><img src=\"https://colab.research.google.com/assets/colab-badge.svg\" alt=\"Open In Colab\"/></a>"
      ]
    },
    {
      "cell_type": "code",
      "metadata": {
        "id": "XVFfVYg4iReE",
        "colab_type": "code",
        "outputId": "a81ad37e-5220-4cfa-df3b-518bd49585a5",
        "colab": {
          "base_uri": "https://localhost:8080/",
          "height": 119
        }
      },
      "source": [
        "from google.colab import drive\n",
        "drive.mount('/content/drive')\n",
        "%cd drive/My\\ Drive/leagueoflegends\n",
        "%ls\n",
        "\n",
        "import numpy as np\n",
        "import pandas as pd\n",
        "import matplotlib.pyplot as plt\n",
        "import seaborn as sns\n",
        "\n",
        "dados = pd.read_csv('matchinfo.csv')\n",
        "\n"
      ],
      "execution_count": 0,
      "outputs": [
        {
          "output_type": "stream",
          "text": [
            "Drive already mounted at /content/drive; to attempt to forcibly remount, call drive.mount(\"/content/drive\", force_remount=True).\n",
            "/content/drive/My Drive/leagueoflegends\n",
            "adc.csv       file.csv    LeagueofLegends.csv  structures.csv  unique.csv\n",
            "bans.csv      gold.csv    matchinfo.csv        sup.csv\n",
            "both.csv      jungle.csv  middle.csv           sup.gsheet\n",
            "_columns.csv  kills.csv   monsters.csv         top.csv\n"
          ],
          "name": "stdout"
        }
      ]
    },
    {
      "cell_type": "markdown",
      "metadata": {
        "id": "orQ2Sd_25rGp",
        "colab_type": "text"
      },
      "source": [
        "Cria um dataframe chamado Both com os dados de todas as partidas"
      ]
    },
    {
      "cell_type": "code",
      "metadata": {
        "id": "9_GYgwfz5WXY",
        "colab_type": "code",
        "outputId": "aa6c8d40-cec8-4da4-e5bf-4a3d5aa0a91c",
        "colab": {
          "base_uri": "https://localhost:8080/",
          "height": 204
        }
      },
      "source": [
        "blue = dados[['Year','blueTopChamp','blueJungleChamp','blueMiddleChamp','blueADCChamp','blueSupportChamp']]\n",
        "red = dados[['Year','redTopChamp','redJungleChamp','redMiddleChamp','redADCChamp','redSupportChamp']]\n",
        "red = red.rename(columns = {'redTopChamp':'blueTopChamp','redJungleChamp':'blueJungleChamp','redMiddleChamp':'blueMiddleChamp','redADCChamp':'blueADCChamp','redSupportChamp':'blueSupportChamp'})\n",
        "both = pd.concat([blue,red])\n",
        "both.head()"
      ],
      "execution_count": 0,
      "outputs": [
        {
          "output_type": "execute_result",
          "data": {
            "text/html": [
              "<div>\n",
              "<style scoped>\n",
              "    .dataframe tbody tr th:only-of-type {\n",
              "        vertical-align: middle;\n",
              "    }\n",
              "\n",
              "    .dataframe tbody tr th {\n",
              "        vertical-align: top;\n",
              "    }\n",
              "\n",
              "    .dataframe thead th {\n",
              "        text-align: right;\n",
              "    }\n",
              "</style>\n",
              "<table border=\"1\" class=\"dataframe\">\n",
              "  <thead>\n",
              "    <tr style=\"text-align: right;\">\n",
              "      <th></th>\n",
              "      <th>Year</th>\n",
              "      <th>blueTopChamp</th>\n",
              "      <th>blueJungleChamp</th>\n",
              "      <th>blueMiddleChamp</th>\n",
              "      <th>blueADCChamp</th>\n",
              "      <th>blueSupportChamp</th>\n",
              "    </tr>\n",
              "  </thead>\n",
              "  <tbody>\n",
              "    <tr>\n",
              "      <th>0</th>\n",
              "      <td>2015</td>\n",
              "      <td>Irelia</td>\n",
              "      <td>RekSai</td>\n",
              "      <td>Ahri</td>\n",
              "      <td>Jinx</td>\n",
              "      <td>Janna</td>\n",
              "    </tr>\n",
              "    <tr>\n",
              "      <th>1</th>\n",
              "      <td>2015</td>\n",
              "      <td>Gnar</td>\n",
              "      <td>Rengar</td>\n",
              "      <td>Ahri</td>\n",
              "      <td>Caitlyn</td>\n",
              "      <td>Leona</td>\n",
              "    </tr>\n",
              "    <tr>\n",
              "      <th>2</th>\n",
              "      <td>2015</td>\n",
              "      <td>Renekton</td>\n",
              "      <td>Rengar</td>\n",
              "      <td>Fizz</td>\n",
              "      <td>Sivir</td>\n",
              "      <td>Annie</td>\n",
              "    </tr>\n",
              "    <tr>\n",
              "      <th>3</th>\n",
              "      <td>2015</td>\n",
              "      <td>Irelia</td>\n",
              "      <td>JarvanIV</td>\n",
              "      <td>Leblanc</td>\n",
              "      <td>Sivir</td>\n",
              "      <td>Thresh</td>\n",
              "    </tr>\n",
              "    <tr>\n",
              "      <th>4</th>\n",
              "      <td>2015</td>\n",
              "      <td>Gnar</td>\n",
              "      <td>JarvanIV</td>\n",
              "      <td>Lissandra</td>\n",
              "      <td>Tristana</td>\n",
              "      <td>Janna</td>\n",
              "    </tr>\n",
              "  </tbody>\n",
              "</table>\n",
              "</div>"
            ],
            "text/plain": [
              "   Year blueTopChamp  ... blueADCChamp blueSupportChamp\n",
              "0  2015       Irelia  ...         Jinx            Janna\n",
              "1  2015         Gnar  ...      Caitlyn            Leona\n",
              "2  2015     Renekton  ...        Sivir            Annie\n",
              "3  2015       Irelia  ...        Sivir           Thresh\n",
              "4  2015         Gnar  ...     Tristana            Janna\n",
              "\n",
              "[5 rows x 6 columns]"
            ]
          },
          "metadata": {
            "tags": []
          },
          "execution_count": 2
        }
      ]
    },
    {
      "cell_type": "markdown",
      "metadata": {
        "id": "l8UMk7cu5y5O",
        "colab_type": "text"
      },
      "source": [
        "Cria listas com nomes únicos em cada posição"
      ]
    },
    {
      "cell_type": "code",
      "metadata": {
        "id": "hO-202ZW53QY",
        "colab_type": "code",
        "colab": {}
      },
      "source": [
        "Middle_unique = both.blueMiddleChamp.unique().tolist()\n",
        "ADC_unique = both.blueADCChamp.unique().tolist()\n",
        "Support_unique = both.blueSupportChamp.unique().tolist()\n",
        "Jungle_unique = both.blueJungleChamp.unique().tolist()\n",
        "Top_unique = both.blueTopChamp.unique().tolist()"
      ],
      "execution_count": 0,
      "outputs": []
    },
    {
      "cell_type": "markdown",
      "metadata": {
        "id": "jwqng2O66a6t",
        "colab_type": "text"
      },
      "source": [
        "#2015"
      ]
    },
    {
      "cell_type": "code",
      "metadata": {
        "id": "vaseWnYm6h3h",
        "colab_type": "code",
        "colab": {}
      },
      "source": [
        "Middle_2015 = both.loc[both.Year == 2015]\n",
        "Middle_2015 = Middle_2015['blueMiddleChamp'].tolist()\n",
        "\n",
        "Jungle_2015 = both.loc[both.Year == 2015]\n",
        "Jungle_2015 = Jungle_2015['blueJungleChamp'].tolist()\n",
        "\n",
        "ADC_2015 = both.loc[both.Year == 2015]\n",
        "ADC_2015 = ADC_2015['blueADCChamp'].tolist()\n",
        "\n",
        "Support_2015 = both.loc[both.Year == 2015]\n",
        "Support_2015 = Support_2015['blueSupportChamp'].tolist()\n",
        "\n",
        "top_2015 = both.loc[both.Year == 2015]\n",
        "top_2015 = top_2015['blueTopChamp'].tolist()\n",
        "\n"
      ],
      "execution_count": 0,
      "outputs": []
    },
    {
      "cell_type": "markdown",
      "metadata": {
        "id": "c7lwsxGG_mgo",
        "colab_type": "text"
      },
      "source": [
        "Cria os dicionarios de 2015"
      ]
    },
    {
      "cell_type": "code",
      "metadata": {
        "id": "qiGnlxx474Ge",
        "colab_type": "code",
        "colab": {}
      },
      "source": [
        "Middle_dict_2015 = dict()\n",
        "for champ in Middle_unique:\n",
        "  Middle_dict_2015[champ] = Middle_2015.count(champ)\n",
        "\n",
        "Jungle_dict_2015 = dict()\n",
        "for champ in Jungle_unique:\n",
        "  Jungle_dict_2015[champ] = Jungle_2015.count(champ)\n",
        "\n",
        "ADC_dict_2015 = dict()\n",
        "for champ in ADC_unique:\n",
        "  ADC_dict_2015[champ] = ADC_2015.count(champ)\n",
        "\n",
        "top_dict_2015 = dict()\n",
        "for champ in Top_unique:\n",
        "  top_dict_2015[champ] = top_2015.count(champ)\n",
        "\n",
        "Support_dict_2015 = dict()\n",
        "for champ in Support_unique:\n",
        "  Support_dict_2015[champ] = Support_2015.count(champ)\n"
      ],
      "execution_count": 0,
      "outputs": []
    },
    {
      "cell_type": "markdown",
      "metadata": {
        "id": "RQ-piwuA-3Gh",
        "colab_type": "text"
      },
      "source": [
        "Ordena os dicionarios"
      ]
    },
    {
      "cell_type": "code",
      "metadata": {
        "id": "Wx5L5Wv98SaI",
        "colab_type": "code",
        "colab": {}
      },
      "source": [
        "ADC_dict_2015 = dict(sorted(ADC_dict_2015.items()))\n",
        "Jungle_dict_2015 = dict(sorted(Jungle_dict_2015.items()))\n",
        "Support_dict_2015 = dict(sorted(Support_dict_2015.items()))\n",
        "Middle_dict_2015 = dict(sorted(Middle_dict_2015.items()))\n",
        "top_dict_2015 = dict(sorted(top_dict_2015.items()))"
      ],
      "execution_count": 0,
      "outputs": []
    },
    {
      "cell_type": "markdown",
      "metadata": {
        "id": "10leIUCw_05b",
        "colab_type": "text"
      },
      "source": [
        "#2016"
      ]
    },
    {
      "cell_type": "code",
      "metadata": {
        "id": "0wnPuFDk_2uR",
        "colab_type": "code",
        "colab": {}
      },
      "source": [
        "Middle_2016 = both.loc[both.Year == 2016]\n",
        "Middle_2016 = Middle_2016['blueMiddleChamp'].tolist()\n",
        "\n",
        "Jungle_2016 = both.loc[both.Year == 2016]\n",
        "Jungle_2016 = Jungle_2016['blueJungleChamp'].tolist()\n",
        "\n",
        "ADC_2016 = both.loc[both.Year == 2016]\n",
        "ADC_2016 = ADC_2016['blueADCChamp'].tolist()\n",
        "\n",
        "Support_2016 = both.loc[both.Year == 2016]\n",
        "Support_2016 = Support_2016['blueSupportChamp'].tolist()\n",
        "\n",
        "top_2016 = both.loc[both.Year == 2016]\n",
        "top_2016 = top_2016['blueTopChamp'].tolist()\n",
        "\n",
        "\n",
        "\n",
        "Middle_dict_2016 = dict()\n",
        "for champ in Middle_unique:\n",
        "  Middle_dict_2016[champ] = Middle_2016.count(champ)\n",
        "\n",
        "Jungle_dict_2016 = dict()\n",
        "for champ in Jungle_unique:\n",
        "  Jungle_dict_2016[champ] = Jungle_2016.count(champ)\n",
        "\n",
        "ADC_dict_2016 = dict()\n",
        "for champ in ADC_unique:\n",
        "  ADC_dict_2016[champ] = ADC_2016.count(champ)\n",
        "\n",
        "top_dict_2016 = dict()\n",
        "for champ in Top_unique:\n",
        "  top_dict_2016[champ] = top_2016.count(champ)\n",
        "\n",
        "Support_dict_2016 = dict()\n",
        "for champ in Support_unique:\n",
        "  Support_dict_2016[champ] = Support_2016.count(champ)\n",
        "\n",
        "\n",
        "ADC_dict_2016 = dict(sorted(ADC_dict_2016.items()))\n",
        "Jungle_dict_2016 = dict(sorted(Jungle_dict_2016.items()))\n",
        "Support_dict_2016 = dict(sorted(Support_dict_2016.items()))\n",
        "Middle_dict_2016 = dict(sorted(Middle_dict_2016.items()))\n",
        "top_dict_2016 = dict(sorted(top_dict_2016.items()))"
      ],
      "execution_count": 0,
      "outputs": []
    },
    {
      "cell_type": "markdown",
      "metadata": {
        "id": "W5_u66zM_8J8",
        "colab_type": "text"
      },
      "source": [
        "#2017"
      ]
    },
    {
      "cell_type": "code",
      "metadata": {
        "id": "t3k1nUiB_9Yh",
        "colab_type": "code",
        "colab": {}
      },
      "source": [
        "Middle_2017 = both.loc[both.Year == 2017]\n",
        "Middle_2017 = Middle_2017['blueMiddleChamp'].tolist()\n",
        "\n",
        "Jungle_2017 = both.loc[both.Year == 2017]\n",
        "Jungle_2017 = Jungle_2017['blueJungleChamp'].tolist()\n",
        "\n",
        "ADC_2017 = both.loc[both.Year == 2017]\n",
        "ADC_2017 = ADC_2017['blueADCChamp'].tolist()\n",
        "\n",
        "Support_2017 = both.loc[both.Year == 2017]\n",
        "Support_2017 = Support_2017['blueSupportChamp'].tolist()\n",
        "\n",
        "top_2017 = both.loc[both.Year == 2017]\n",
        "top_2017 = top_2017['blueTopChamp'].tolist()\n",
        "\n",
        "\n",
        "\n",
        "Middle_dict_2017 = dict()\n",
        "for champ in Middle_unique:\n",
        "  Middle_dict_2017[champ] = Middle_2017.count(champ)\n",
        "\n",
        "Jungle_dict_2017 = dict()\n",
        "for champ in Jungle_unique:\n",
        "  Jungle_dict_2017[champ] = Jungle_2017.count(champ)\n",
        "\n",
        "ADC_dict_2017 = dict()\n",
        "for champ in ADC_unique:\n",
        "  ADC_dict_2017[champ] = ADC_2017.count(champ)\n",
        "\n",
        "top_dict_2017 = dict()\n",
        "for champ in Top_unique:\n",
        "  top_dict_2017[champ] = top_2017.count(champ)\n",
        "\n",
        "Support_dict_2017 = dict()\n",
        "for champ in Support_unique:\n",
        "  Support_dict_2017[champ] = Support_2017.count(champ)\n",
        "\n",
        "\n",
        "ADC_dict_2017 = dict(sorted(ADC_dict_2017.items()))\n",
        "Jungle_dict_2017 = dict(sorted(Jungle_dict_2017.items()))\n",
        "Support_dict_2017 = dict(sorted(Support_dict_2017.items()))\n",
        "Middle_dict_2017 = dict(sorted(Middle_dict_2017.items()))\n",
        "top_dict_2017 = dict(sorted(top_dict_2017.items()))"
      ],
      "execution_count": 0,
      "outputs": []
    },
    {
      "cell_type": "markdown",
      "metadata": {
        "id": "1Fl0SepCAEc2",
        "colab_type": "text"
      },
      "source": [
        "#Junta tudo"
      ]
    },
    {
      "cell_type": "code",
      "metadata": {
        "id": "-wRt02x4AGTF",
        "colab_type": "code",
        "colab": {}
      },
      "source": [
        "adc_df = pd.DataFrame({'2015':pd.Series(ADC_dict_2015),'2016':pd.Series(ADC_dict_2016), '2017': pd.Series(ADC_dict_2017)})\n",
        "adc_df['Total'] = adc_df.sum(axis=1)\n",
        "adc_df = adc_df.sort_values('Total',ascending=False)\n",
        "adc_df.to_csv('adc.csv', sep='\\t', encoding='utf-8')\n",
        "\n",
        "top_df = pd.DataFrame({'2015':pd.Series(top_dict_2015),'2016':pd.Series(top_dict_2016), '2017': pd.Series(top_dict_2017)})\n",
        "top_df['Total'] = top_df.sum(axis=1)\n",
        "top_df = top_df.sort_values('Total',ascending=False)\n",
        "top_df.to_csv('top.csv', sep='\\t', encoding='utf-8')\n",
        "\n",
        "Jungle_df = pd.DataFrame({'2015':pd.Series(Jungle_dict_2015),'2016':pd.Series(Jungle_dict_2016), '2017': pd.Series(Jungle_dict_2017)})\n",
        "Jungle_df['Total'] = Jungle_df.sum(axis=1)\n",
        "Jungle_df = Jungle_df.sort_values('Total',ascending=False)\n",
        "Jungle_df.to_csv('Jungle.csv', sep='\\t', encoding='utf-8')\n",
        "\n",
        "Middle_df = pd.DataFrame({'2015':pd.Series(Middle_dict_2015),'2016':pd.Series(Middle_dict_2016), '2017': pd.Series(Middle_dict_2017)})\n",
        "Middle_df['Total'] = Middle_df.sum(axis=1)\n",
        "Middle_df = Middle_df.sort_values('Total',ascending=False)\n",
        "Middle_df.to_csv('Middle.csv', sep='\\t', encoding='utf-8')\n",
        "\n",
        "Support_df = pd.DataFrame({'2015':pd.Series(Support_dict_2015),'2016':pd.Series(Support_dict_2016), '2017': pd.Series(Support_dict_2017)})\n",
        "Support_df['Total'] = Support_df.sum(axis=1)\n",
        "Support_df = Support_df.sort_values('Total',ascending=False)\n",
        "Support_df.to_csv('Support.csv', sep='\\t', encoding='utf-8')"
      ],
      "execution_count": 0,
      "outputs": []
    }
  ]
}